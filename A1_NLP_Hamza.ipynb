{
  "cells": [
    {
      "cell_type": "markdown",
      "id": "51b409e0",
      "metadata": {
        "id": "51b409e0"
      },
      "source": [
        "NLP Assignment 1 , 2022 ..... Sarcasm Classification"
      ]
    },
    {
      "cell_type": "code",
      "execution_count": 3,
      "id": "6cd60bc4",
      "metadata": {
        "id": "6cd60bc4"
      },
      "outputs": [],
      "source": [
        "import pandas as pd\n",
        "import sklearn\n",
        "from sklearn.model_selection import train_test_split\n",
        "from sklearn.metrics import classification_report\n",
        "import matplotlib.pyplot as plt\n",
        "from sklearn.preprocessing import LabelEncoder\n",
        "from sklearn.feature_extraction.text import CountVectorizer,TfidfVectorizer\n",
        "from sklearn.metrics import ConfusionMatrixDisplay\n",
        "from sklearn.naive_bayes import GaussianNB, MultinomialNB\n",
        "from sklearn.linear_model import LogisticRegression\n",
        "from sklearn.ensemble import RandomForestClassifier\n",
        "from sklearn.svm import SVC\n",
        "from sklearn.linear_model import Perceptron\n"
      ]
    },
    {
      "cell_type": "code",
      "source": [
        "from google.colab import drive\n",
        "drive.mount('/content/drive')"
      ],
      "metadata": {
        "colab": {
          "base_uri": "https://localhost:8080/"
        },
        "id": "ettaw8CIHw9D",
        "outputId": "ee37a5c1-a66b-4777-c567-3112ba29a90d"
      },
      "id": "ettaw8CIHw9D",
      "execution_count": 1,
      "outputs": [
        {
          "output_type": "stream",
          "name": "stdout",
          "text": [
            "Mounted at /content/drive\n"
          ]
        }
      ]
    },
    {
      "cell_type": "code",
      "execution_count": 4,
      "id": "37cb7835",
      "metadata": {
        "colab": {
          "base_uri": "https://localhost:8080/",
          "height": 319
        },
        "id": "37cb7835",
        "outputId": "fe24b73a-51b0-4706-96f1-ef7a847d5cab"
      },
      "outputs": [
        {
          "output_type": "execute_result",
          "data": {
            "text/plain": [
              "   Unnamed: 0                                              tweet  sarcastic  \\\n",
              "0           0  The only thing I got from college is a caffein...          1   \n",
              "1           1  I love it when professors draw a big question ...          1   \n",
              "2           2  Remember the hundred emails from companies whe...          1   \n",
              "3           3  Today my pop-pop told me I was not “forced” to...          1   \n",
              "4           4  @VolphanCarol @littlewhitty @mysticalmanatee I...          1   \n",
              "\n",
              "   sarcasm  irony  satire  understatement  overstatement  rhetorical_question  \n",
              "0      0.0    1.0     0.0             0.0            0.0                  0.0  \n",
              "1      1.0    0.0     0.0             0.0            0.0                  0.0  \n",
              "2      0.0    1.0     0.0             0.0            0.0                  0.0  \n",
              "3      1.0    0.0     0.0             0.0            0.0                  0.0  \n",
              "4      1.0    0.0     0.0             0.0            0.0                  0.0  "
            ],
            "text/html": [
              "\n",
              "  <div id=\"df-781eed86-2a33-45f6-9a4c-61c762c7d4da\">\n",
              "    <div class=\"colab-df-container\">\n",
              "      <div>\n",
              "<style scoped>\n",
              "    .dataframe tbody tr th:only-of-type {\n",
              "        vertical-align: middle;\n",
              "    }\n",
              "\n",
              "    .dataframe tbody tr th {\n",
              "        vertical-align: top;\n",
              "    }\n",
              "\n",
              "    .dataframe thead th {\n",
              "        text-align: right;\n",
              "    }\n",
              "</style>\n",
              "<table border=\"1\" class=\"dataframe\">\n",
              "  <thead>\n",
              "    <tr style=\"text-align: right;\">\n",
              "      <th></th>\n",
              "      <th>Unnamed: 0</th>\n",
              "      <th>tweet</th>\n",
              "      <th>sarcastic</th>\n",
              "      <th>sarcasm</th>\n",
              "      <th>irony</th>\n",
              "      <th>satire</th>\n",
              "      <th>understatement</th>\n",
              "      <th>overstatement</th>\n",
              "      <th>rhetorical_question</th>\n",
              "    </tr>\n",
              "  </thead>\n",
              "  <tbody>\n",
              "    <tr>\n",
              "      <th>0</th>\n",
              "      <td>0</td>\n",
              "      <td>The only thing I got from college is a caffein...</td>\n",
              "      <td>1</td>\n",
              "      <td>0.0</td>\n",
              "      <td>1.0</td>\n",
              "      <td>0.0</td>\n",
              "      <td>0.0</td>\n",
              "      <td>0.0</td>\n",
              "      <td>0.0</td>\n",
              "    </tr>\n",
              "    <tr>\n",
              "      <th>1</th>\n",
              "      <td>1</td>\n",
              "      <td>I love it when professors draw a big question ...</td>\n",
              "      <td>1</td>\n",
              "      <td>1.0</td>\n",
              "      <td>0.0</td>\n",
              "      <td>0.0</td>\n",
              "      <td>0.0</td>\n",
              "      <td>0.0</td>\n",
              "      <td>0.0</td>\n",
              "    </tr>\n",
              "    <tr>\n",
              "      <th>2</th>\n",
              "      <td>2</td>\n",
              "      <td>Remember the hundred emails from companies whe...</td>\n",
              "      <td>1</td>\n",
              "      <td>0.0</td>\n",
              "      <td>1.0</td>\n",
              "      <td>0.0</td>\n",
              "      <td>0.0</td>\n",
              "      <td>0.0</td>\n",
              "      <td>0.0</td>\n",
              "    </tr>\n",
              "    <tr>\n",
              "      <th>3</th>\n",
              "      <td>3</td>\n",
              "      <td>Today my pop-pop told me I was not “forced” to...</td>\n",
              "      <td>1</td>\n",
              "      <td>1.0</td>\n",
              "      <td>0.0</td>\n",
              "      <td>0.0</td>\n",
              "      <td>0.0</td>\n",
              "      <td>0.0</td>\n",
              "      <td>0.0</td>\n",
              "    </tr>\n",
              "    <tr>\n",
              "      <th>4</th>\n",
              "      <td>4</td>\n",
              "      <td>@VolphanCarol @littlewhitty @mysticalmanatee I...</td>\n",
              "      <td>1</td>\n",
              "      <td>1.0</td>\n",
              "      <td>0.0</td>\n",
              "      <td>0.0</td>\n",
              "      <td>0.0</td>\n",
              "      <td>0.0</td>\n",
              "      <td>0.0</td>\n",
              "    </tr>\n",
              "  </tbody>\n",
              "</table>\n",
              "</div>\n",
              "      <button class=\"colab-df-convert\" onclick=\"convertToInteractive('df-781eed86-2a33-45f6-9a4c-61c762c7d4da')\"\n",
              "              title=\"Convert this dataframe to an interactive table.\"\n",
              "              style=\"display:none;\">\n",
              "        \n",
              "  <svg xmlns=\"http://www.w3.org/2000/svg\" height=\"24px\"viewBox=\"0 0 24 24\"\n",
              "       width=\"24px\">\n",
              "    <path d=\"M0 0h24v24H0V0z\" fill=\"none\"/>\n",
              "    <path d=\"M18.56 5.44l.94 2.06.94-2.06 2.06-.94-2.06-.94-.94-2.06-.94 2.06-2.06.94zm-11 1L8.5 8.5l.94-2.06 2.06-.94-2.06-.94L8.5 2.5l-.94 2.06-2.06.94zm10 10l.94 2.06.94-2.06 2.06-.94-2.06-.94-.94-2.06-.94 2.06-2.06.94z\"/><path d=\"M17.41 7.96l-1.37-1.37c-.4-.4-.92-.59-1.43-.59-.52 0-1.04.2-1.43.59L10.3 9.45l-7.72 7.72c-.78.78-.78 2.05 0 2.83L4 21.41c.39.39.9.59 1.41.59.51 0 1.02-.2 1.41-.59l7.78-7.78 2.81-2.81c.8-.78.8-2.07 0-2.86zM5.41 20L4 18.59l7.72-7.72 1.47 1.35L5.41 20z\"/>\n",
              "  </svg>\n",
              "      </button>\n",
              "      \n",
              "  <style>\n",
              "    .colab-df-container {\n",
              "      display:flex;\n",
              "      flex-wrap:wrap;\n",
              "      gap: 12px;\n",
              "    }\n",
              "\n",
              "    .colab-df-convert {\n",
              "      background-color: #E8F0FE;\n",
              "      border: none;\n",
              "      border-radius: 50%;\n",
              "      cursor: pointer;\n",
              "      display: none;\n",
              "      fill: #1967D2;\n",
              "      height: 32px;\n",
              "      padding: 0 0 0 0;\n",
              "      width: 32px;\n",
              "    }\n",
              "\n",
              "    .colab-df-convert:hover {\n",
              "      background-color: #E2EBFA;\n",
              "      box-shadow: 0px 1px 2px rgba(60, 64, 67, 0.3), 0px 1px 3px 1px rgba(60, 64, 67, 0.15);\n",
              "      fill: #174EA6;\n",
              "    }\n",
              "\n",
              "    [theme=dark] .colab-df-convert {\n",
              "      background-color: #3B4455;\n",
              "      fill: #D2E3FC;\n",
              "    }\n",
              "\n",
              "    [theme=dark] .colab-df-convert:hover {\n",
              "      background-color: #434B5C;\n",
              "      box-shadow: 0px 1px 3px 1px rgba(0, 0, 0, 0.15);\n",
              "      filter: drop-shadow(0px 1px 2px rgba(0, 0, 0, 0.3));\n",
              "      fill: #FFFFFF;\n",
              "    }\n",
              "  </style>\n",
              "\n",
              "      <script>\n",
              "        const buttonEl =\n",
              "          document.querySelector('#df-781eed86-2a33-45f6-9a4c-61c762c7d4da button.colab-df-convert');\n",
              "        buttonEl.style.display =\n",
              "          google.colab.kernel.accessAllowed ? 'block' : 'none';\n",
              "\n",
              "        async function convertToInteractive(key) {\n",
              "          const element = document.querySelector('#df-781eed86-2a33-45f6-9a4c-61c762c7d4da');\n",
              "          const dataTable =\n",
              "            await google.colab.kernel.invokeFunction('convertToInteractive',\n",
              "                                                     [key], {});\n",
              "          if (!dataTable) return;\n",
              "\n",
              "          const docLinkHtml = 'Like what you see? Visit the ' +\n",
              "            '<a target=\"_blank\" href=https://colab.research.google.com/notebooks/data_table.ipynb>data table notebook</a>'\n",
              "            + ' to learn more about interactive tables.';\n",
              "          element.innerHTML = '';\n",
              "          dataTable['output_type'] = 'display_data';\n",
              "          await google.colab.output.renderOutput(dataTable, element);\n",
              "          const docLink = document.createElement('div');\n",
              "          docLink.innerHTML = docLinkHtml;\n",
              "          element.appendChild(docLink);\n",
              "        }\n",
              "      </script>\n",
              "    </div>\n",
              "  </div>\n",
              "  "
            ]
          },
          "metadata": {},
          "execution_count": 4
        }
      ],
      "source": [
        "input = pd.read_csv(\"/content/drive/MyDrive/Sarcasm_Dataset.csv\")\n",
        "input.head()"
      ]
    },
    {
      "cell_type": "markdown",
      "source": [
        "**Binary Classification**"
      ],
      "metadata": {
        "id": "ekvsGMFfIiKg"
      },
      "id": "ekvsGMFfIiKg"
    },
    {
      "cell_type": "code",
      "execution_count": 5,
      "id": "fe79b6d9",
      "metadata": {
        "colab": {
          "base_uri": "https://localhost:8080/",
          "height": 206
        },
        "id": "fe79b6d9",
        "outputId": "20a43f2c-fb8b-4f81-ab1f-04686ee15f78"
      },
      "outputs": [
        {
          "output_type": "execute_result",
          "data": {
            "text/plain": [
              "                                               tweet  sarcastic\n",
              "0  The only thing I got from college is a caffein...          1\n",
              "1  I love it when professors draw a big question ...          1\n",
              "2  Remember the hundred emails from companies whe...          1\n",
              "3  Today my pop-pop told me I was not “forced” to...          1\n",
              "4  @VolphanCarol @littlewhitty @mysticalmanatee I...          1"
            ],
            "text/html": [
              "\n",
              "  <div id=\"df-61f4f3b0-dd21-462e-8a95-f7692301b614\">\n",
              "    <div class=\"colab-df-container\">\n",
              "      <div>\n",
              "<style scoped>\n",
              "    .dataframe tbody tr th:only-of-type {\n",
              "        vertical-align: middle;\n",
              "    }\n",
              "\n",
              "    .dataframe tbody tr th {\n",
              "        vertical-align: top;\n",
              "    }\n",
              "\n",
              "    .dataframe thead th {\n",
              "        text-align: right;\n",
              "    }\n",
              "</style>\n",
              "<table border=\"1\" class=\"dataframe\">\n",
              "  <thead>\n",
              "    <tr style=\"text-align: right;\">\n",
              "      <th></th>\n",
              "      <th>tweet</th>\n",
              "      <th>sarcastic</th>\n",
              "    </tr>\n",
              "  </thead>\n",
              "  <tbody>\n",
              "    <tr>\n",
              "      <th>0</th>\n",
              "      <td>The only thing I got from college is a caffein...</td>\n",
              "      <td>1</td>\n",
              "    </tr>\n",
              "    <tr>\n",
              "      <th>1</th>\n",
              "      <td>I love it when professors draw a big question ...</td>\n",
              "      <td>1</td>\n",
              "    </tr>\n",
              "    <tr>\n",
              "      <th>2</th>\n",
              "      <td>Remember the hundred emails from companies whe...</td>\n",
              "      <td>1</td>\n",
              "    </tr>\n",
              "    <tr>\n",
              "      <th>3</th>\n",
              "      <td>Today my pop-pop told me I was not “forced” to...</td>\n",
              "      <td>1</td>\n",
              "    </tr>\n",
              "    <tr>\n",
              "      <th>4</th>\n",
              "      <td>@VolphanCarol @littlewhitty @mysticalmanatee I...</td>\n",
              "      <td>1</td>\n",
              "    </tr>\n",
              "  </tbody>\n",
              "</table>\n",
              "</div>\n",
              "      <button class=\"colab-df-convert\" onclick=\"convertToInteractive('df-61f4f3b0-dd21-462e-8a95-f7692301b614')\"\n",
              "              title=\"Convert this dataframe to an interactive table.\"\n",
              "              style=\"display:none;\">\n",
              "        \n",
              "  <svg xmlns=\"http://www.w3.org/2000/svg\" height=\"24px\"viewBox=\"0 0 24 24\"\n",
              "       width=\"24px\">\n",
              "    <path d=\"M0 0h24v24H0V0z\" fill=\"none\"/>\n",
              "    <path d=\"M18.56 5.44l.94 2.06.94-2.06 2.06-.94-2.06-.94-.94-2.06-.94 2.06-2.06.94zm-11 1L8.5 8.5l.94-2.06 2.06-.94-2.06-.94L8.5 2.5l-.94 2.06-2.06.94zm10 10l.94 2.06.94-2.06 2.06-.94-2.06-.94-.94-2.06-.94 2.06-2.06.94z\"/><path d=\"M17.41 7.96l-1.37-1.37c-.4-.4-.92-.59-1.43-.59-.52 0-1.04.2-1.43.59L10.3 9.45l-7.72 7.72c-.78.78-.78 2.05 0 2.83L4 21.41c.39.39.9.59 1.41.59.51 0 1.02-.2 1.41-.59l7.78-7.78 2.81-2.81c.8-.78.8-2.07 0-2.86zM5.41 20L4 18.59l7.72-7.72 1.47 1.35L5.41 20z\"/>\n",
              "  </svg>\n",
              "      </button>\n",
              "      \n",
              "  <style>\n",
              "    .colab-df-container {\n",
              "      display:flex;\n",
              "      flex-wrap:wrap;\n",
              "      gap: 12px;\n",
              "    }\n",
              "\n",
              "    .colab-df-convert {\n",
              "      background-color: #E8F0FE;\n",
              "      border: none;\n",
              "      border-radius: 50%;\n",
              "      cursor: pointer;\n",
              "      display: none;\n",
              "      fill: #1967D2;\n",
              "      height: 32px;\n",
              "      padding: 0 0 0 0;\n",
              "      width: 32px;\n",
              "    }\n",
              "\n",
              "    .colab-df-convert:hover {\n",
              "      background-color: #E2EBFA;\n",
              "      box-shadow: 0px 1px 2px rgba(60, 64, 67, 0.3), 0px 1px 3px 1px rgba(60, 64, 67, 0.15);\n",
              "      fill: #174EA6;\n",
              "    }\n",
              "\n",
              "    [theme=dark] .colab-df-convert {\n",
              "      background-color: #3B4455;\n",
              "      fill: #D2E3FC;\n",
              "    }\n",
              "\n",
              "    [theme=dark] .colab-df-convert:hover {\n",
              "      background-color: #434B5C;\n",
              "      box-shadow: 0px 1px 3px 1px rgba(0, 0, 0, 0.15);\n",
              "      filter: drop-shadow(0px 1px 2px rgba(0, 0, 0, 0.3));\n",
              "      fill: #FFFFFF;\n",
              "    }\n",
              "  </style>\n",
              "\n",
              "      <script>\n",
              "        const buttonEl =\n",
              "          document.querySelector('#df-61f4f3b0-dd21-462e-8a95-f7692301b614 button.colab-df-convert');\n",
              "        buttonEl.style.display =\n",
              "          google.colab.kernel.accessAllowed ? 'block' : 'none';\n",
              "\n",
              "        async function convertToInteractive(key) {\n",
              "          const element = document.querySelector('#df-61f4f3b0-dd21-462e-8a95-f7692301b614');\n",
              "          const dataTable =\n",
              "            await google.colab.kernel.invokeFunction('convertToInteractive',\n",
              "                                                     [key], {});\n",
              "          if (!dataTable) return;\n",
              "\n",
              "          const docLinkHtml = 'Like what you see? Visit the ' +\n",
              "            '<a target=\"_blank\" href=https://colab.research.google.com/notebooks/data_table.ipynb>data table notebook</a>'\n",
              "            + ' to learn more about interactive tables.';\n",
              "          element.innerHTML = '';\n",
              "          dataTable['output_type'] = 'display_data';\n",
              "          await google.colab.output.renderOutput(dataTable, element);\n",
              "          const docLink = document.createElement('div');\n",
              "          docLink.innerHTML = docLinkHtml;\n",
              "          element.appendChild(docLink);\n",
              "        }\n",
              "      </script>\n",
              "    </div>\n",
              "  </div>\n",
              "  "
            ]
          },
          "metadata": {},
          "execution_count": 5
        }
      ],
      "source": [
        "input = input.drop(input.columns[0], axis=1)\n",
        "tweets = input.drop(['sarcasm', 'irony', 'satire', 'understatement', 'overstatement', 'rhetorical_question'], axis=1)\n",
        "tweets.dropna(how='any', inplace=True)\n",
        "tweets.head()"
      ]
    },
    {
      "cell_type": "code",
      "execution_count": 6,
      "id": "3749a4d9",
      "metadata": {
        "id": "3749a4d9"
      },
      "outputs": [],
      "source": [
        "X = tweets['tweet']\n",
        "y = tweets['sarcastic']\n",
        "X_train, X_test, y_train, y_test = train_test_split(X, y, random_state=42, train_size=0.70)"
      ]
    },
    {
      "cell_type": "code",
      "execution_count": 7,
      "id": "6555b0b5",
      "metadata": {
        "id": "6555b0b5"
      },
      "outputs": [],
      "source": [
        "#Bag of words using countVectorizer using n-gram\n",
        "gram_vectorizer = CountVectorizer(ngram_range=(2, 3), stop_words='english', binary='True')\n",
        "X_train_2 = gram_vectorizer.fit_transform(X_train)\n",
        "X_test_2 = gram_vectorizer.transform(X_test)"
      ]
    },
    {
      "cell_type": "markdown",
      "id": "b0eba724",
      "metadata": {
        "id": "b0eba724"
      },
      "source": [
        " Naive Bayes"
      ]
    },
    {
      "cell_type": "code",
      "execution_count": 8,
      "id": "78679b85",
      "metadata": {
        "colab": {
          "base_uri": "https://localhost:8080/"
        },
        "id": "78679b85",
        "outputId": "5b9ee5aa-0199-4895-db93-7c30c93ba04a"
      },
      "outputs": [
        {
          "output_type": "stream",
          "name": "stdout",
          "text": [
            "              precision    recall  f1-score   support\n",
            "\n",
            "           0       0.79      0.26      0.39       754\n",
            "           1       0.30      0.82      0.43       287\n",
            "\n",
            "    accuracy                           0.41      1041\n",
            "   macro avg       0.54      0.54      0.41      1041\n",
            "weighted avg       0.65      0.41      0.40      1041\n",
            "\n"
          ]
        }
      ],
      "source": [
        "model = GaussianNB()\n",
        "model.fit(X_train_2.toarray(),y_train)\n",
        "y_predict = model.predict(X_test_2.toarray())\n",
        "print(classification_report(y_test, y_predict, zero_division=0))\n"
      ]
    },
    {
      "cell_type": "markdown",
      "source": [
        "SVM"
      ],
      "metadata": {
        "id": "-PY964IaMmNd"
      },
      "id": "-PY964IaMmNd"
    },
    {
      "cell_type": "code",
      "execution_count": 14,
      "id": "342c8a51",
      "metadata": {
        "colab": {
          "base_uri": "https://localhost:8080/"
        },
        "id": "342c8a51",
        "outputId": "e2fa0766-be01-447e-ec80-a3245d4347c3"
      },
      "outputs": [
        {
          "output_type": "stream",
          "name": "stdout",
          "text": [
            "              precision    recall  f1-score   support\n",
            "\n",
            "           0       0.72      1.00      0.84       754\n",
            "           1       0.00      0.00      0.00       287\n",
            "\n",
            "    accuracy                           0.72      1041\n",
            "   macro avg       0.36      0.50      0.42      1041\n",
            "weighted avg       0.52      0.72      0.61      1041\n",
            "\n"
          ]
        }
      ],
      "source": [
        "model = SVC()\n",
        "model.fit(X_train_2, y_train)\n",
        "y_predict = model.predict(X_test_2)\n",
        "print(classification_report(y_test, y_predict, zero_division=0))\n"
      ]
    },
    {
      "cell_type": "markdown",
      "id": "9119c09d",
      "metadata": {
        "id": "9119c09d"
      },
      "source": [
        "Logistic Regression"
      ]
    },
    {
      "cell_type": "code",
      "execution_count": 10,
      "id": "e3960386",
      "metadata": {
        "colab": {
          "base_uri": "https://localhost:8080/"
        },
        "id": "e3960386",
        "outputId": "e42fb528-cabc-4dae-8b18-fef8eb1c088e"
      },
      "outputs": [
        {
          "output_type": "stream",
          "name": "stdout",
          "text": [
            "              precision    recall  f1-score   support\n",
            "\n",
            "           0       0.72      1.00      0.84       754\n",
            "           1       0.00      0.00      0.00       287\n",
            "\n",
            "    accuracy                           0.72      1041\n",
            "   macro avg       0.36      0.50      0.42      1041\n",
            "weighted avg       0.52      0.72      0.61      1041\n",
            "\n"
          ]
        }
      ],
      "source": [
        "model = LogisticRegression()\n",
        "model.fit(X_train_2, y_train)\n",
        "y_predicted = model.predict(X_test_2)\n",
        "print(classification_report(y_test, y_predicted, zero_division=0))\n"
      ]
    },
    {
      "cell_type": "markdown",
      "id": "78be3dee",
      "metadata": {
        "id": "78be3dee"
      },
      "source": [
        " Random Forest"
      ]
    },
    {
      "cell_type": "code",
      "execution_count": 12,
      "id": "4688f58c",
      "metadata": {
        "colab": {
          "base_uri": "https://localhost:8080/"
        },
        "id": "4688f58c",
        "outputId": "edddaed6-def6-465e-9c5d-7fa41b934d32"
      },
      "outputs": [
        {
          "output_type": "stream",
          "name": "stdout",
          "text": [
            "              precision    recall  f1-score   support\n",
            "\n",
            "           0       0.72      1.00      0.84       754\n",
            "           1       0.00      0.00      0.00       287\n",
            "\n",
            "    accuracy                           0.72      1041\n",
            "   macro avg       0.36      0.50      0.42      1041\n",
            "weighted avg       0.52      0.72      0.61      1041\n",
            "\n"
          ]
        }
      ],
      "source": [
        "model = RandomForestClassifier()\n",
        "model.fit(X_train_2, y_train)\n",
        "y_predict = model.predict(X_test_2)\n",
        "print(classification_report(y_test, y_predict, zero_division=0))\n"
      ]
    },
    {
      "cell_type": "markdown",
      "id": "c0bb76fd",
      "metadata": {
        "id": "c0bb76fd"
      },
      "source": [
        "Perceptron"
      ]
    },
    {
      "cell_type": "code",
      "execution_count": 16,
      "id": "0c20b320",
      "metadata": {
        "colab": {
          "base_uri": "https://localhost:8080/"
        },
        "id": "0c20b320",
        "outputId": "2fc6d0cd-5aa6-484a-f89c-d63e91312652"
      },
      "outputs": [
        {
          "output_type": "stream",
          "name": "stdout",
          "text": [
            "              precision    recall  f1-score   support\n",
            "\n",
            "           0       0.73      0.92      0.82       754\n",
            "           1       0.36      0.12      0.18       287\n",
            "\n",
            "    accuracy                           0.70      1041\n",
            "   macro avg       0.55      0.52      0.50      1041\n",
            "weighted avg       0.63      0.70      0.64      1041\n",
            "\n"
          ]
        }
      ],
      "source": [
        "model = Perceptron(tol=1e-3, random_state=0)\n",
        "model.fit(X_train_2, y_train)\n",
        "y_predict = model.predict(X_test_2)\n",
        "print(classification_report(y_test, y_predict, zero_division=0))\n"
      ]
    },
    {
      "cell_type": "markdown",
      "id": "e227be0b",
      "metadata": {
        "id": "e227be0b"
      },
      "source": [
        "## Binary Classification Using Bag of Words based TFIDF "
      ]
    },
    {
      "cell_type": "code",
      "execution_count": 17,
      "id": "f529554d",
      "metadata": {
        "id": "f529554d"
      },
      "outputs": [],
      "source": [
        "# BoW using Count Vertorizer using TFIDF\n",
        "tf = TfidfVectorizer(ngram_range=(2, 3), stop_words='english', binary=True, use_idf=True)\n",
        "X_train_3 = tf.fit_transform(X_train)\n",
        "X_test_3 = tf.transform(X_test)"
      ]
    },
    {
      "cell_type": "markdown",
      "id": "0764b922",
      "metadata": {
        "id": "0764b922"
      },
      "source": [
        "Naive Bayes"
      ]
    },
    {
      "cell_type": "code",
      "execution_count": 20,
      "id": "a6cf5c11",
      "metadata": {
        "colab": {
          "base_uri": "https://localhost:8080/"
        },
        "id": "a6cf5c11",
        "outputId": "4df92f9d-0d38-46be-9b71-1a2db04392a4"
      },
      "outputs": [
        {
          "output_type": "stream",
          "name": "stdout",
          "text": [
            "              precision    recall  f1-score   support\n",
            "\n",
            "           0       0.79      0.26      0.39       754\n",
            "           1       0.29      0.82      0.43       287\n",
            "\n",
            "    accuracy                           0.41      1041\n",
            "   macro avg       0.54      0.54      0.41      1041\n",
            "weighted avg       0.65      0.41      0.40      1041\n",
            "\n"
          ]
        }
      ],
      "source": [
        "model = GaussianNB()\n",
        "model.fit(X_train_3.toarray(),y_train)\n",
        "y_predict = model.predict(X_test_3.toarray())\n",
        "print(classification_report(y_test, y_predict, zero_division=0))\n"
      ]
    },
    {
      "cell_type": "markdown",
      "id": "714f3a99",
      "metadata": {
        "id": "714f3a99"
      },
      "source": [
        "Logistic Regression "
      ]
    },
    {
      "cell_type": "code",
      "execution_count": 22,
      "id": "109dc2ce",
      "metadata": {
        "colab": {
          "base_uri": "https://localhost:8080/"
        },
        "id": "109dc2ce",
        "outputId": "ee742636-15c8-4ff1-ebab-d42daa7def49"
      },
      "outputs": [
        {
          "output_type": "stream",
          "name": "stdout",
          "text": [
            "              precision    recall  f1-score   support\n",
            "\n",
            "           0       0.72      1.00      0.84       754\n",
            "           1       0.00      0.00      0.00       287\n",
            "\n",
            "    accuracy                           0.72      1041\n",
            "   macro avg       0.36      0.50      0.42      1041\n",
            "weighted avg       0.52      0.72      0.61      1041\n",
            "\n"
          ]
        }
      ],
      "source": [
        "model = LogisticRegression()\n",
        "model.fit(X_train_3, y_train)\n",
        "y_predicted = model.predict(X_test_3)\n",
        "print(classification_report(y_test, y_predicted, zero_division=0))\n"
      ]
    },
    {
      "cell_type": "markdown",
      "id": "65a1daec",
      "metadata": {
        "id": "65a1daec"
      },
      "source": [
        "Random Forest"
      ]
    },
    {
      "cell_type": "code",
      "execution_count": 24,
      "id": "808dcf6e",
      "metadata": {
        "colab": {
          "base_uri": "https://localhost:8080/"
        },
        "id": "808dcf6e",
        "outputId": "e4184432-41b5-4c5d-e78c-706b6abd0740"
      },
      "outputs": [
        {
          "output_type": "stream",
          "name": "stdout",
          "text": [
            "              precision    recall  f1-score   support\n",
            "\n",
            "           0       0.72      1.00      0.84       754\n",
            "           1       1.00      0.00      0.01       287\n",
            "\n",
            "    accuracy                           0.73      1041\n",
            "   macro avg       0.86      0.50      0.42      1041\n",
            "weighted avg       0.80      0.73      0.61      1041\n",
            "\n"
          ]
        }
      ],
      "source": [
        "model = RandomForestClassifier()\n",
        "model.fit(X_train_3, y_train)\n",
        "y_predict = model.predict(X_test_3)\n",
        "print(classification_report(y_test, y_predict, zero_division=0))\n"
      ]
    },
    {
      "cell_type": "markdown",
      "id": "43fe09ee",
      "metadata": {
        "id": "43fe09ee"
      },
      "source": [
        "SVM"
      ]
    },
    {
      "cell_type": "code",
      "execution_count": 27,
      "id": "33be02e2",
      "metadata": {
        "colab": {
          "base_uri": "https://localhost:8080/"
        },
        "id": "33be02e2",
        "outputId": "79682741-79fe-4e12-8523-b921bbcd1b10"
      },
      "outputs": [
        {
          "output_type": "stream",
          "name": "stdout",
          "text": [
            "              precision    recall  f1-score   support\n",
            "\n",
            "           0       0.72      1.00      0.84       754\n",
            "           1       0.00      0.00      0.00       287\n",
            "\n",
            "    accuracy                           0.72      1041\n",
            "   macro avg       0.36      0.50      0.42      1041\n",
            "weighted avg       0.52      0.72      0.61      1041\n",
            "\n"
          ]
        }
      ],
      "source": [
        "model = SVC()\n",
        "model.fit(X_train_3, y_train)\n",
        "y_predict = model.predict(X_test_3)\n",
        "print(classification_report(y_test, y_predict, zero_division=0))\n"
      ]
    },
    {
      "cell_type": "markdown",
      "id": "2c8d86ef",
      "metadata": {
        "id": "2c8d86ef"
      },
      "source": [
        "Perceptron"
      ]
    },
    {
      "cell_type": "code",
      "execution_count": 29,
      "id": "a726c0b4",
      "metadata": {
        "colab": {
          "base_uri": "https://localhost:8080/"
        },
        "id": "a726c0b4",
        "outputId": "454fa91b-f956-4b8a-d125-fac812c7d3b9"
      },
      "outputs": [
        {
          "output_type": "stream",
          "name": "stdout",
          "text": [
            "              precision    recall  f1-score   support\n",
            "\n",
            "           0       0.73      0.91      0.81       754\n",
            "           1       0.35      0.13      0.19       287\n",
            "\n",
            "    accuracy                           0.69      1041\n",
            "   macro avg       0.54      0.52      0.50      1041\n",
            "weighted avg       0.63      0.69      0.64      1041\n",
            "\n"
          ]
        }
      ],
      "source": [
        "model = Perceptron(tol=1e-3, random_state=0)\n",
        "model.fit(X_train_3, y_train)\n",
        "y_predict = model.predict(X_test_3)\n",
        "print(classification_report(y_test, y_predict, zero_division=0))\n"
      ]
    },
    {
      "cell_type": "markdown",
      "id": "f26d975f",
      "metadata": {
        "id": "f26d975f"
      },
      "source": [
        "# Multi-Class Classification \n",
        " "
      ]
    },
    {
      "cell_type": "code",
      "execution_count": 33,
      "id": "bf11ddbe",
      "metadata": {
        "colab": {
          "base_uri": "https://localhost:8080/",
          "height": 206
        },
        "id": "bf11ddbe",
        "outputId": "9f7594c7-9bdf-46b5-9974-789fb7bc3c19"
      },
      "outputs": [
        {
          "output_type": "execute_result",
          "data": {
            "text/plain": [
              "                                               tweet  sarcastic  sarcasm  \\\n",
              "0  The only thing I got from college is a caffein...          1      0.0   \n",
              "1  I love it when professors draw a big question ...          1      1.0   \n",
              "2  Remember the hundred emails from companies whe...          1      0.0   \n",
              "3  Today my pop-pop told me I was not “forced” to...          1      1.0   \n",
              "4  @VolphanCarol @littlewhitty @mysticalmanatee I...          1      1.0   \n",
              "\n",
              "   irony  satire  understatement  overstatement  rhetorical_question  \n",
              "0    1.0     0.0             0.0            0.0                  0.0  \n",
              "1    0.0     0.0             0.0            0.0                  0.0  \n",
              "2    1.0     0.0             0.0            0.0                  0.0  \n",
              "3    0.0     0.0             0.0            0.0                  0.0  \n",
              "4    0.0     0.0             0.0            0.0                  0.0  "
            ],
            "text/html": [
              "\n",
              "  <div id=\"df-579fd825-449f-4300-bdcf-765838c487f4\">\n",
              "    <div class=\"colab-df-container\">\n",
              "      <div>\n",
              "<style scoped>\n",
              "    .dataframe tbody tr th:only-of-type {\n",
              "        vertical-align: middle;\n",
              "    }\n",
              "\n",
              "    .dataframe tbody tr th {\n",
              "        vertical-align: top;\n",
              "    }\n",
              "\n",
              "    .dataframe thead th {\n",
              "        text-align: right;\n",
              "    }\n",
              "</style>\n",
              "<table border=\"1\" class=\"dataframe\">\n",
              "  <thead>\n",
              "    <tr style=\"text-align: right;\">\n",
              "      <th></th>\n",
              "      <th>tweet</th>\n",
              "      <th>sarcastic</th>\n",
              "      <th>sarcasm</th>\n",
              "      <th>irony</th>\n",
              "      <th>satire</th>\n",
              "      <th>understatement</th>\n",
              "      <th>overstatement</th>\n",
              "      <th>rhetorical_question</th>\n",
              "    </tr>\n",
              "  </thead>\n",
              "  <tbody>\n",
              "    <tr>\n",
              "      <th>0</th>\n",
              "      <td>The only thing I got from college is a caffein...</td>\n",
              "      <td>1</td>\n",
              "      <td>0.0</td>\n",
              "      <td>1.0</td>\n",
              "      <td>0.0</td>\n",
              "      <td>0.0</td>\n",
              "      <td>0.0</td>\n",
              "      <td>0.0</td>\n",
              "    </tr>\n",
              "    <tr>\n",
              "      <th>1</th>\n",
              "      <td>I love it when professors draw a big question ...</td>\n",
              "      <td>1</td>\n",
              "      <td>1.0</td>\n",
              "      <td>0.0</td>\n",
              "      <td>0.0</td>\n",
              "      <td>0.0</td>\n",
              "      <td>0.0</td>\n",
              "      <td>0.0</td>\n",
              "    </tr>\n",
              "    <tr>\n",
              "      <th>2</th>\n",
              "      <td>Remember the hundred emails from companies whe...</td>\n",
              "      <td>1</td>\n",
              "      <td>0.0</td>\n",
              "      <td>1.0</td>\n",
              "      <td>0.0</td>\n",
              "      <td>0.0</td>\n",
              "      <td>0.0</td>\n",
              "      <td>0.0</td>\n",
              "    </tr>\n",
              "    <tr>\n",
              "      <th>3</th>\n",
              "      <td>Today my pop-pop told me I was not “forced” to...</td>\n",
              "      <td>1</td>\n",
              "      <td>1.0</td>\n",
              "      <td>0.0</td>\n",
              "      <td>0.0</td>\n",
              "      <td>0.0</td>\n",
              "      <td>0.0</td>\n",
              "      <td>0.0</td>\n",
              "    </tr>\n",
              "    <tr>\n",
              "      <th>4</th>\n",
              "      <td>@VolphanCarol @littlewhitty @mysticalmanatee I...</td>\n",
              "      <td>1</td>\n",
              "      <td>1.0</td>\n",
              "      <td>0.0</td>\n",
              "      <td>0.0</td>\n",
              "      <td>0.0</td>\n",
              "      <td>0.0</td>\n",
              "      <td>0.0</td>\n",
              "    </tr>\n",
              "  </tbody>\n",
              "</table>\n",
              "</div>\n",
              "      <button class=\"colab-df-convert\" onclick=\"convertToInteractive('df-579fd825-449f-4300-bdcf-765838c487f4')\"\n",
              "              title=\"Convert this dataframe to an interactive table.\"\n",
              "              style=\"display:none;\">\n",
              "        \n",
              "  <svg xmlns=\"http://www.w3.org/2000/svg\" height=\"24px\"viewBox=\"0 0 24 24\"\n",
              "       width=\"24px\">\n",
              "    <path d=\"M0 0h24v24H0V0z\" fill=\"none\"/>\n",
              "    <path d=\"M18.56 5.44l.94 2.06.94-2.06 2.06-.94-2.06-.94-.94-2.06-.94 2.06-2.06.94zm-11 1L8.5 8.5l.94-2.06 2.06-.94-2.06-.94L8.5 2.5l-.94 2.06-2.06.94zm10 10l.94 2.06.94-2.06 2.06-.94-2.06-.94-.94-2.06-.94 2.06-2.06.94z\"/><path d=\"M17.41 7.96l-1.37-1.37c-.4-.4-.92-.59-1.43-.59-.52 0-1.04.2-1.43.59L10.3 9.45l-7.72 7.72c-.78.78-.78 2.05 0 2.83L4 21.41c.39.39.9.59 1.41.59.51 0 1.02-.2 1.41-.59l7.78-7.78 2.81-2.81c.8-.78.8-2.07 0-2.86zM5.41 20L4 18.59l7.72-7.72 1.47 1.35L5.41 20z\"/>\n",
              "  </svg>\n",
              "      </button>\n",
              "      \n",
              "  <style>\n",
              "    .colab-df-container {\n",
              "      display:flex;\n",
              "      flex-wrap:wrap;\n",
              "      gap: 12px;\n",
              "    }\n",
              "\n",
              "    .colab-df-convert {\n",
              "      background-color: #E8F0FE;\n",
              "      border: none;\n",
              "      border-radius: 50%;\n",
              "      cursor: pointer;\n",
              "      display: none;\n",
              "      fill: #1967D2;\n",
              "      height: 32px;\n",
              "      padding: 0 0 0 0;\n",
              "      width: 32px;\n",
              "    }\n",
              "\n",
              "    .colab-df-convert:hover {\n",
              "      background-color: #E2EBFA;\n",
              "      box-shadow: 0px 1px 2px rgba(60, 64, 67, 0.3), 0px 1px 3px 1px rgba(60, 64, 67, 0.15);\n",
              "      fill: #174EA6;\n",
              "    }\n",
              "\n",
              "    [theme=dark] .colab-df-convert {\n",
              "      background-color: #3B4455;\n",
              "      fill: #D2E3FC;\n",
              "    }\n",
              "\n",
              "    [theme=dark] .colab-df-convert:hover {\n",
              "      background-color: #434B5C;\n",
              "      box-shadow: 0px 1px 3px 1px rgba(0, 0, 0, 0.15);\n",
              "      filter: drop-shadow(0px 1px 2px rgba(0, 0, 0, 0.3));\n",
              "      fill: #FFFFFF;\n",
              "    }\n",
              "  </style>\n",
              "\n",
              "      <script>\n",
              "        const buttonEl =\n",
              "          document.querySelector('#df-579fd825-449f-4300-bdcf-765838c487f4 button.colab-df-convert');\n",
              "        buttonEl.style.display =\n",
              "          google.colab.kernel.accessAllowed ? 'block' : 'none';\n",
              "\n",
              "        async function convertToInteractive(key) {\n",
              "          const element = document.querySelector('#df-579fd825-449f-4300-bdcf-765838c487f4');\n",
              "          const dataTable =\n",
              "            await google.colab.kernel.invokeFunction('convertToInteractive',\n",
              "                                                     [key], {});\n",
              "          if (!dataTable) return;\n",
              "\n",
              "          const docLinkHtml = 'Like what you see? Visit the ' +\n",
              "            '<a target=\"_blank\" href=https://colab.research.google.com/notebooks/data_table.ipynb>data table notebook</a>'\n",
              "            + ' to learn more about interactive tables.';\n",
              "          element.innerHTML = '';\n",
              "          dataTable['output_type'] = 'display_data';\n",
              "          await google.colab.output.renderOutput(dataTable, element);\n",
              "          const docLink = document.createElement('div');\n",
              "          docLink.innerHTML = docLinkHtml;\n",
              "          element.appendChild(docLink);\n",
              "        }\n",
              "      </script>\n",
              "    </div>\n",
              "  </div>\n",
              "  "
            ]
          },
          "metadata": {},
          "execution_count": 33
        }
      ],
      "source": [
        "input2 = input.copy()\n",
        "input2 = input2[input.sarcastic == 1]\n",
        "input2.head()"
      ]
    },
    {
      "cell_type": "code",
      "execution_count": 34,
      "id": "a9b032ea",
      "metadata": {
        "colab": {
          "base_uri": "https://localhost:8080/",
          "height": 267
        },
        "id": "a9b032ea",
        "outputId": "a4d64398-5ef8-4fd1-c909-019900bb25e1"
      },
      "outputs": [
        {
          "output_type": "execute_result",
          "data": {
            "text/plain": [
              "                                               tweet  sarcastic  sarcasm  \\\n",
              "0  The only thing I got from college is a caffein...          1      0.0   \n",
              "1  I love it when professors draw a big question ...          1      1.0   \n",
              "2  Remember the hundred emails from companies whe...          1      0.0   \n",
              "3  Today my pop-pop told me I was not “forced” to...          1      1.0   \n",
              "4  @VolphanCarol @littlewhitty @mysticalmanatee I...          1      1.0   \n",
              "\n",
              "   irony  satire  understatement  overstatement  rhetorical_question  label  \n",
              "0    1.0     0.0             0.0            0.0                  0.0  irony  \n",
              "1    0.0     0.0             0.0            0.0                  0.0  Other  \n",
              "2    1.0     0.0             0.0            0.0                  0.0  irony  \n",
              "3    0.0     0.0             0.0            0.0                  0.0  Other  \n",
              "4    0.0     0.0             0.0            0.0                  0.0  Other  "
            ],
            "text/html": [
              "\n",
              "  <div id=\"df-1c2e0aab-c33a-49e1-90f3-f5428851f068\">\n",
              "    <div class=\"colab-df-container\">\n",
              "      <div>\n",
              "<style scoped>\n",
              "    .dataframe tbody tr th:only-of-type {\n",
              "        vertical-align: middle;\n",
              "    }\n",
              "\n",
              "    .dataframe tbody tr th {\n",
              "        vertical-align: top;\n",
              "    }\n",
              "\n",
              "    .dataframe thead th {\n",
              "        text-align: right;\n",
              "    }\n",
              "</style>\n",
              "<table border=\"1\" class=\"dataframe\">\n",
              "  <thead>\n",
              "    <tr style=\"text-align: right;\">\n",
              "      <th></th>\n",
              "      <th>tweet</th>\n",
              "      <th>sarcastic</th>\n",
              "      <th>sarcasm</th>\n",
              "      <th>irony</th>\n",
              "      <th>satire</th>\n",
              "      <th>understatement</th>\n",
              "      <th>overstatement</th>\n",
              "      <th>rhetorical_question</th>\n",
              "      <th>label</th>\n",
              "    </tr>\n",
              "  </thead>\n",
              "  <tbody>\n",
              "    <tr>\n",
              "      <th>0</th>\n",
              "      <td>The only thing I got from college is a caffein...</td>\n",
              "      <td>1</td>\n",
              "      <td>0.0</td>\n",
              "      <td>1.0</td>\n",
              "      <td>0.0</td>\n",
              "      <td>0.0</td>\n",
              "      <td>0.0</td>\n",
              "      <td>0.0</td>\n",
              "      <td>irony</td>\n",
              "    </tr>\n",
              "    <tr>\n",
              "      <th>1</th>\n",
              "      <td>I love it when professors draw a big question ...</td>\n",
              "      <td>1</td>\n",
              "      <td>1.0</td>\n",
              "      <td>0.0</td>\n",
              "      <td>0.0</td>\n",
              "      <td>0.0</td>\n",
              "      <td>0.0</td>\n",
              "      <td>0.0</td>\n",
              "      <td>Other</td>\n",
              "    </tr>\n",
              "    <tr>\n",
              "      <th>2</th>\n",
              "      <td>Remember the hundred emails from companies whe...</td>\n",
              "      <td>1</td>\n",
              "      <td>0.0</td>\n",
              "      <td>1.0</td>\n",
              "      <td>0.0</td>\n",
              "      <td>0.0</td>\n",
              "      <td>0.0</td>\n",
              "      <td>0.0</td>\n",
              "      <td>irony</td>\n",
              "    </tr>\n",
              "    <tr>\n",
              "      <th>3</th>\n",
              "      <td>Today my pop-pop told me I was not “forced” to...</td>\n",
              "      <td>1</td>\n",
              "      <td>1.0</td>\n",
              "      <td>0.0</td>\n",
              "      <td>0.0</td>\n",
              "      <td>0.0</td>\n",
              "      <td>0.0</td>\n",
              "      <td>0.0</td>\n",
              "      <td>Other</td>\n",
              "    </tr>\n",
              "    <tr>\n",
              "      <th>4</th>\n",
              "      <td>@VolphanCarol @littlewhitty @mysticalmanatee I...</td>\n",
              "      <td>1</td>\n",
              "      <td>1.0</td>\n",
              "      <td>0.0</td>\n",
              "      <td>0.0</td>\n",
              "      <td>0.0</td>\n",
              "      <td>0.0</td>\n",
              "      <td>0.0</td>\n",
              "      <td>Other</td>\n",
              "    </tr>\n",
              "  </tbody>\n",
              "</table>\n",
              "</div>\n",
              "      <button class=\"colab-df-convert\" onclick=\"convertToInteractive('df-1c2e0aab-c33a-49e1-90f3-f5428851f068')\"\n",
              "              title=\"Convert this dataframe to an interactive table.\"\n",
              "              style=\"display:none;\">\n",
              "        \n",
              "  <svg xmlns=\"http://www.w3.org/2000/svg\" height=\"24px\"viewBox=\"0 0 24 24\"\n",
              "       width=\"24px\">\n",
              "    <path d=\"M0 0h24v24H0V0z\" fill=\"none\"/>\n",
              "    <path d=\"M18.56 5.44l.94 2.06.94-2.06 2.06-.94-2.06-.94-.94-2.06-.94 2.06-2.06.94zm-11 1L8.5 8.5l.94-2.06 2.06-.94-2.06-.94L8.5 2.5l-.94 2.06-2.06.94zm10 10l.94 2.06.94-2.06 2.06-.94-2.06-.94-.94-2.06-.94 2.06-2.06.94z\"/><path d=\"M17.41 7.96l-1.37-1.37c-.4-.4-.92-.59-1.43-.59-.52 0-1.04.2-1.43.59L10.3 9.45l-7.72 7.72c-.78.78-.78 2.05 0 2.83L4 21.41c.39.39.9.59 1.41.59.51 0 1.02-.2 1.41-.59l7.78-7.78 2.81-2.81c.8-.78.8-2.07 0-2.86zM5.41 20L4 18.59l7.72-7.72 1.47 1.35L5.41 20z\"/>\n",
              "  </svg>\n",
              "      </button>\n",
              "      \n",
              "  <style>\n",
              "    .colab-df-container {\n",
              "      display:flex;\n",
              "      flex-wrap:wrap;\n",
              "      gap: 12px;\n",
              "    }\n",
              "\n",
              "    .colab-df-convert {\n",
              "      background-color: #E8F0FE;\n",
              "      border: none;\n",
              "      border-radius: 50%;\n",
              "      cursor: pointer;\n",
              "      display: none;\n",
              "      fill: #1967D2;\n",
              "      height: 32px;\n",
              "      padding: 0 0 0 0;\n",
              "      width: 32px;\n",
              "    }\n",
              "\n",
              "    .colab-df-convert:hover {\n",
              "      background-color: #E2EBFA;\n",
              "      box-shadow: 0px 1px 2px rgba(60, 64, 67, 0.3), 0px 1px 3px 1px rgba(60, 64, 67, 0.15);\n",
              "      fill: #174EA6;\n",
              "    }\n",
              "\n",
              "    [theme=dark] .colab-df-convert {\n",
              "      background-color: #3B4455;\n",
              "      fill: #D2E3FC;\n",
              "    }\n",
              "\n",
              "    [theme=dark] .colab-df-convert:hover {\n",
              "      background-color: #434B5C;\n",
              "      box-shadow: 0px 1px 3px 1px rgba(0, 0, 0, 0.15);\n",
              "      filter: drop-shadow(0px 1px 2px rgba(0, 0, 0, 0.3));\n",
              "      fill: #FFFFFF;\n",
              "    }\n",
              "  </style>\n",
              "\n",
              "      <script>\n",
              "        const buttonEl =\n",
              "          document.querySelector('#df-1c2e0aab-c33a-49e1-90f3-f5428851f068 button.colab-df-convert');\n",
              "        buttonEl.style.display =\n",
              "          google.colab.kernel.accessAllowed ? 'block' : 'none';\n",
              "\n",
              "        async function convertToInteractive(key) {\n",
              "          const element = document.querySelector('#df-1c2e0aab-c33a-49e1-90f3-f5428851f068');\n",
              "          const dataTable =\n",
              "            await google.colab.kernel.invokeFunction('convertToInteractive',\n",
              "                                                     [key], {});\n",
              "          if (!dataTable) return;\n",
              "\n",
              "          const docLinkHtml = 'Like what you see? Visit the ' +\n",
              "            '<a target=\"_blank\" href=https://colab.research.google.com/notebooks/data_table.ipynb>data table notebook</a>'\n",
              "            + ' to learn more about interactive tables.';\n",
              "          element.innerHTML = '';\n",
              "          dataTable['output_type'] = 'display_data';\n",
              "          await google.colab.output.renderOutput(dataTable, element);\n",
              "          const docLink = document.createElement('div');\n",
              "          docLink.innerHTML = docLinkHtml;\n",
              "          element.appendChild(docLink);\n",
              "        }\n",
              "      </script>\n",
              "    </div>\n",
              "  </div>\n",
              "  "
            ]
          },
          "metadata": {},
          "execution_count": 34
        }
      ],
      "source": [
        "def labelClass(row):\n",
        "    if row.irony == 1.0:\n",
        "        return 'irony'\n",
        "    if row.satire == 1.0:\n",
        "        return 'satire';\n",
        "    if row.understatement == 1.0:\n",
        "        return 'understatement'\n",
        "    if row.overstatement == 1.0:\n",
        "        return 'overstatement'\n",
        "    if row.rhetorical_question == 1.0:\n",
        "        return 'rhetorical_question'\n",
        "    return 'Other'\n",
        "input2['label'] = input2.apply(lambda x: labelClass(x), axis=1)\n",
        "input2.head()"
      ]
    },
    {
      "cell_type": "markdown",
      "id": "ac0a23fe",
      "metadata": {
        "id": "ac0a23fe"
      },
      "source": [
        "Now drop undesired columns as well as encode the label class."
      ]
    },
    {
      "cell_type": "code",
      "execution_count": 35,
      "id": "95730b8d",
      "metadata": {
        "id": "95730b8d"
      },
      "outputs": [],
      "source": [
        "input3 = input2.drop(['sarcasm', 'sarcastic', 'irony', 'satire', 'understatement', 'overstatement', 'rhetorical_question'], axis=1)"
      ]
    },
    {
      "cell_type": "code",
      "execution_count": 36,
      "id": "a233adc7",
      "metadata": {
        "id": "a233adc7"
      },
      "outputs": [],
      "source": [
        "encoder = LabelEncoder()\n",
        "input3['label'] = encoder.fit_transform(input3['label'])"
      ]
    },
    {
      "cell_type": "markdown",
      "id": "86c85a08",
      "metadata": {
        "id": "86c85a08"
      },
      "source": [
        "## Multi Class Classification Using Bag of Words based on Row Count"
      ]
    },
    {
      "cell_type": "code",
      "execution_count": 42,
      "id": "72da23d3",
      "metadata": {
        "id": "72da23d3"
      },
      "outputs": [],
      "source": [
        "#split the data into x and y and in training and testing sets\n",
        "X = input3['tweet']\n",
        "y = input3['label']\n",
        "X_train, X_test, y_train, y_test = train_test_split(X, y, random_state=42, train_size=0.70)"
      ]
    },
    {
      "cell_type": "code",
      "execution_count": 43,
      "id": "f5404958",
      "metadata": {
        "id": "f5404958"
      },
      "outputs": [],
      "source": [
        "#Bag of words using countVectorizer using n-gram\n",
        "gram_vectorizer = CountVectorizer(ngram_range=(2, 3), stop_words='english', binary='True')\n",
        "X_train_Mc = gram_vectorizer.fit_transform(X_train)\n",
        "X_test_Mc = gram_vectorizer.transform(X_test)"
      ]
    },
    {
      "cell_type": "markdown",
      "id": "adba69a6",
      "metadata": {
        "id": "adba69a6"
      },
      "source": [
        "### Naive Bayes"
      ]
    },
    {
      "cell_type": "code",
      "execution_count": 44,
      "id": "c273496b",
      "metadata": {
        "colab": {
          "base_uri": "https://localhost:8080/"
        },
        "id": "c273496b",
        "outputId": "871f5bb9-519f-4fc8-f4f2-3ad8a47da1c3"
      },
      "outputs": [
        {
          "output_type": "stream",
          "name": "stdout",
          "text": [
            "              precision    recall  f1-score   support\n",
            "\n",
            "           1       0.00      0.00      0.00        44\n",
            "           0       0.68      0.99      0.80       177\n",
            "           3       0.00      0.00      0.00        23\n",
            "           5       0.00      0.00      0.00         1\n",
            "           4       0.00      0.00      0.00         4\n",
            "           2       0.00      0.00      0.00        12\n",
            "\n",
            "    accuracy                           0.67       261\n",
            "   macro avg       0.11      0.16      0.13       261\n",
            "weighted avg       0.46      0.67      0.54       261\n",
            "\n"
          ]
        }
      ],
      "source": [
        "model = MultinomialNB()\n",
        "model.fit(X_train_Mc.toarray(), y_train)\n",
        "y_predict = model.predict(X_test_Mc.toarray())\n",
        "print(classification_report(y_test, y_predict, zero_division=0, labels=input3.label.unique()))\n"
      ]
    },
    {
      "cell_type": "markdown",
      "id": "12d0c46a",
      "metadata": {
        "id": "12d0c46a"
      },
      "source": [
        "### Logistic Regression"
      ]
    },
    {
      "cell_type": "code",
      "execution_count": 45,
      "id": "347d2cb3",
      "metadata": {
        "colab": {
          "base_uri": "https://localhost:8080/"
        },
        "id": "347d2cb3",
        "outputId": "cf7aa6cc-e082-4b6f-b94c-bdd5418d7f41"
      },
      "outputs": [
        {
          "output_type": "stream",
          "name": "stdout",
          "text": [
            "              precision    recall  f1-score   support\n",
            "\n",
            "           1       0.00      0.00      0.00        44\n",
            "           0       0.68      1.00      0.81       177\n",
            "           3       0.00      0.00      0.00        23\n",
            "           5       0.00      0.00      0.00         1\n",
            "           4       0.00      0.00      0.00         4\n",
            "           2       0.00      0.00      0.00        12\n",
            "\n",
            "    accuracy                           0.68       261\n",
            "   macro avg       0.11      0.17      0.13       261\n",
            "weighted avg       0.46      0.68      0.55       261\n",
            "\n"
          ]
        }
      ],
      "source": [
        "model = LogisticRegression(C=1.0, class_weight=None, dual=False, fit_intercept=True,\n",
        "                   intercept_scaling=1, l1_ratio=None, max_iter=100,\n",
        "                   multi_class='ovr', n_jobs=None, penalty='l2',\n",
        "                   random_state=None, solver='liblinear', tol=0.0001, verbose=0,\n",
        "                   warm_start=False)\n",
        "model.fit(X_train_Mc, y_train)\n",
        "y_predict = model.predict(X_test_Mc)\n",
        "print(classification_report(y_test, y_predict, zero_division=0, labels=input3.label.unique()))\n"
      ]
    },
    {
      "cell_type": "markdown",
      "id": "aa350bc2",
      "metadata": {
        "id": "aa350bc2"
      },
      "source": [
        "### SVM"
      ]
    },
    {
      "cell_type": "code",
      "execution_count": 46,
      "id": "e7aa715b",
      "metadata": {
        "colab": {
          "base_uri": "https://localhost:8080/"
        },
        "id": "e7aa715b",
        "outputId": "b4ce776d-d71d-4975-f613-0e2d5d4e8300"
      },
      "outputs": [
        {
          "output_type": "stream",
          "name": "stdout",
          "text": [
            "              precision    recall  f1-score   support\n",
            "\n",
            "           1       0.00      0.00      0.00        44\n",
            "           0       0.68      1.00      0.81       177\n",
            "           3       0.00      0.00      0.00        23\n",
            "           5       0.00      0.00      0.00         1\n",
            "           4       0.00      0.00      0.00         4\n",
            "           2       0.00      0.00      0.00        12\n",
            "\n",
            "    accuracy                           0.68       261\n",
            "   macro avg       0.11      0.17      0.13       261\n",
            "weighted avg       0.46      0.68      0.55       261\n",
            "\n"
          ]
        }
      ],
      "source": [
        "model = SVC(kernel='poly', C=1.0)\n",
        "model.fit(X_train_Mc, y_train)\n",
        "y_predict = model.predict(X_test_Mc)\n",
        "print(classification_report(y_test, y_predict, zero_division=0, labels=input3.label.unique()))\n"
      ]
    },
    {
      "cell_type": "markdown",
      "id": "8d3f21b0",
      "metadata": {
        "id": "8d3f21b0"
      },
      "source": [
        "### Random Forest"
      ]
    },
    {
      "cell_type": "code",
      "execution_count": 47,
      "id": "3e65d122",
      "metadata": {
        "colab": {
          "base_uri": "https://localhost:8080/"
        },
        "id": "3e65d122",
        "outputId": "39bf69d4-a8df-40bf-b096-c8f39d18e1d1"
      },
      "outputs": [
        {
          "output_type": "stream",
          "name": "stdout",
          "text": [
            "              precision    recall  f1-score   support\n",
            "\n",
            "           1       0.00      0.00      0.00        44\n",
            "           0       0.68      1.00      0.81       177\n",
            "           3       0.00      0.00      0.00        23\n",
            "           5       0.00      0.00      0.00         1\n",
            "           4       0.00      0.00      0.00         4\n",
            "           2       0.00      0.00      0.00        12\n",
            "\n",
            "    accuracy                           0.68       261\n",
            "   macro avg       0.11      0.17      0.13       261\n",
            "weighted avg       0.46      0.68      0.55       261\n",
            "\n"
          ]
        }
      ],
      "source": [
        "model = RandomForestClassifier(n_estimators = 10, max_depth=5, criterion = 'entropy')\n",
        "model.fit(X_train_Mc, y_train)\n",
        "y_predict = model.predict(X_test_Mc)\n",
        "print(classification_report(y_test, y_predict, zero_division=0, labels=input3.label.unique()))\n"
      ]
    },
    {
      "cell_type": "markdown",
      "id": "0fe1d46b",
      "metadata": {
        "id": "0fe1d46b"
      },
      "source": [
        "### Perceptron"
      ]
    },
    {
      "cell_type": "code",
      "execution_count": 49,
      "id": "f6ffe3ba",
      "metadata": {
        "colab": {
          "base_uri": "https://localhost:8080/"
        },
        "id": "f6ffe3ba",
        "outputId": "9878a05f-0f9a-4579-9c42-0b3166f3d179"
      },
      "outputs": [
        {
          "output_type": "stream",
          "name": "stdout",
          "text": [
            "              precision    recall  f1-score   support\n",
            "\n",
            "           1       0.33      0.05      0.08        44\n",
            "           0       0.68      0.95      0.79       177\n",
            "           3       0.00      0.00      0.00        23\n",
            "           5       0.00      0.00      0.00         1\n",
            "           4       0.00      0.00      0.00         4\n",
            "           2       0.00      0.00      0.00        12\n",
            "\n",
            "    accuracy                           0.65       261\n",
            "   macro avg       0.17      0.17      0.15       261\n",
            "weighted avg       0.52      0.65      0.55       261\n",
            "\n"
          ]
        }
      ],
      "source": [
        "model = Perceptron(tol=1e-3, random_state=20)\n",
        "model.fit(X_train_Mc, y_train)\n",
        "y_predict = model.predict(X_test_Mc)\n",
        "print(classification_report(y_test, y_predict, zero_division=0, labels=input3.label.unique()))\n"
      ]
    },
    {
      "cell_type": "code",
      "execution_count": 50,
      "id": "379c53dc",
      "metadata": {
        "id": "379c53dc"
      },
      "outputs": [],
      "source": [
        "# BoW using TFIDF \n",
        "tf_mc = TfidfVectorizer(ngram_range=(2, 3), stop_words='english', use_idf=True)\n",
        "X_train_mc = tf_mc.fit_transform(X_train)\n",
        "X_test_mc = tf_mc.transform(X_test)"
      ]
    },
    {
      "cell_type": "markdown",
      "id": "fb13becf",
      "metadata": {
        "id": "fb13becf"
      },
      "source": [
        "### Naive Bayes"
      ]
    },
    {
      "cell_type": "code",
      "execution_count": 51,
      "id": "b5822226",
      "metadata": {
        "colab": {
          "base_uri": "https://localhost:8080/"
        },
        "id": "b5822226",
        "outputId": "27b55e20-2cef-48fd-c8a0-3d5eb432a93d"
      },
      "outputs": [
        {
          "output_type": "stream",
          "name": "stdout",
          "text": [
            "              precision    recall  f1-score   support\n",
            "\n",
            "           1       0.00      0.00      0.00        44\n",
            "           0       0.68      1.00      0.81       177\n",
            "           3       0.00      0.00      0.00        23\n",
            "           5       0.00      0.00      0.00         1\n",
            "           4       0.00      0.00      0.00         4\n",
            "           2       0.00      0.00      0.00        12\n",
            "\n",
            "    accuracy                           0.68       261\n",
            "   macro avg       0.11      0.17      0.13       261\n",
            "weighted avg       0.46      0.68      0.55       261\n",
            "\n"
          ]
        }
      ],
      "source": [
        "model = MultinomialNB()\n",
        "model.fit(X_train_mc.toarray(), y_train)\n",
        "y_predict = model.predict(X_test_mc.toarray())\n",
        "print(classification_report(y_test, y_predict, zero_division=0, labels=input3.label.unique()))\n"
      ]
    },
    {
      "cell_type": "markdown",
      "id": "4e89c625",
      "metadata": {
        "id": "4e89c625"
      },
      "source": [
        "### Logistic Regression"
      ]
    },
    {
      "cell_type": "code",
      "execution_count": 52,
      "id": "68d3e405",
      "metadata": {
        "colab": {
          "base_uri": "https://localhost:8080/"
        },
        "id": "68d3e405",
        "outputId": "81cb7fab-54a4-4e9d-eb69-788e75862044"
      },
      "outputs": [
        {
          "output_type": "stream",
          "name": "stdout",
          "text": [
            "              precision    recall  f1-score   support\n",
            "\n",
            "           1       0.00      0.00      0.00        44\n",
            "           0       0.68      1.00      0.81       177\n",
            "           3       0.00      0.00      0.00        23\n",
            "           5       0.00      0.00      0.00         1\n",
            "           4       0.00      0.00      0.00         4\n",
            "           2       0.00      0.00      0.00        12\n",
            "\n",
            "    accuracy                           0.68       261\n",
            "   macro avg       0.11      0.17      0.13       261\n",
            "weighted avg       0.46      0.68      0.55       261\n",
            "\n"
          ]
        }
      ],
      "source": [
        "model = LogisticRegression(C=1.0, class_weight=None, dual=False, fit_intercept=True,\n",
        "                   intercept_scaling=1, l1_ratio=None, max_iter=100,\n",
        "                   multi_class='ovr', n_jobs=None, penalty='l2',\n",
        "                   random_state=None, solver='liblinear', tol=0.0001, verbose=0,\n",
        "                   warm_start=False)\n",
        "model.fit(X_train_mc, y_train)\n",
        "y_predict = model.predict(X_test_mc)\n",
        "print(classification_report(y_test, y_predict, zero_division=0, labels=input3.label.unique()))\n"
      ]
    },
    {
      "cell_type": "markdown",
      "id": "b507251b",
      "metadata": {
        "id": "b507251b"
      },
      "source": [
        "### SVM"
      ]
    },
    {
      "cell_type": "code",
      "execution_count": 53,
      "id": "3a14819c",
      "metadata": {
        "colab": {
          "base_uri": "https://localhost:8080/"
        },
        "id": "3a14819c",
        "outputId": "0169259d-f614-4846-a686-f825e1469daa"
      },
      "outputs": [
        {
          "output_type": "stream",
          "name": "stdout",
          "text": [
            "              precision    recall  f1-score   support\n",
            "\n",
            "           1       0.00      0.00      0.00        44\n",
            "           0       0.68      1.00      0.81       177\n",
            "           3       0.00      0.00      0.00        23\n",
            "           5       0.00      0.00      0.00         1\n",
            "           4       0.00      0.00      0.00         4\n",
            "           2       0.00      0.00      0.00        12\n",
            "\n",
            "    accuracy                           0.68       261\n",
            "   macro avg       0.11      0.17      0.13       261\n",
            "weighted avg       0.46      0.68      0.55       261\n",
            "\n"
          ]
        }
      ],
      "source": [
        "model = SVC(kernel='poly', C=1.0)\n",
        "model.fit(X_train_mc, y_train)\n",
        "y_predict = model.predict(X_test_mc)\n",
        "print(classification_report(y_test, y_predict, zero_division=0, labels=input3.label.unique()))\n"
      ]
    },
    {
      "cell_type": "markdown",
      "id": "68e7d0a2",
      "metadata": {
        "id": "68e7d0a2"
      },
      "source": [
        "### Random Forest"
      ]
    },
    {
      "cell_type": "code",
      "execution_count": 54,
      "id": "e3c6e008",
      "metadata": {
        "colab": {
          "base_uri": "https://localhost:8080/"
        },
        "id": "e3c6e008",
        "outputId": "66d86790-98d3-40d9-85a3-8a9f143ca2fa"
      },
      "outputs": [
        {
          "output_type": "stream",
          "name": "stdout",
          "text": [
            "              precision    recall  f1-score   support\n",
            "\n",
            "           1       0.00      0.00      0.00        44\n",
            "           0       0.68      1.00      0.81       177\n",
            "           3       0.00      0.00      0.00        23\n",
            "           5       0.00      0.00      0.00         1\n",
            "           4       0.00      0.00      0.00         4\n",
            "           2       0.00      0.00      0.00        12\n",
            "\n",
            "    accuracy                           0.68       261\n",
            "   macro avg       0.11      0.17      0.13       261\n",
            "weighted avg       0.46      0.68      0.55       261\n",
            "\n"
          ]
        }
      ],
      "source": [
        "model = RandomForestClassifier(n_estimators = 10, max_depth=3, criterion = 'entropy')\n",
        "model.fit(X_train_mc, y_train)\n",
        "y_predict = model.predict(X_test_mc)\n",
        "print(classification_report(y_test, y_predict, zero_division=0, labels=input3.label.unique()))\n"
      ]
    },
    {
      "cell_type": "markdown",
      "id": "eaf72331",
      "metadata": {
        "id": "eaf72331"
      },
      "source": [
        "### Perceptron"
      ]
    },
    {
      "cell_type": "code",
      "execution_count": 55,
      "id": "ab4dbe89",
      "metadata": {
        "colab": {
          "base_uri": "https://localhost:8080/"
        },
        "id": "ab4dbe89",
        "outputId": "26779d0a-09ae-40ba-8738-58f4e67b165b"
      },
      "outputs": [
        {
          "output_type": "stream",
          "name": "stdout",
          "text": [
            "              precision    recall  f1-score   support\n",
            "\n",
            "           1       0.17      0.02      0.04        44\n",
            "           0       0.67      0.94      0.79       177\n",
            "           3       0.00      0.00      0.00        23\n",
            "           5       0.00      0.00      0.00         1\n",
            "           4       0.00      0.00      0.00         4\n",
            "           2       0.00      0.00      0.00        12\n",
            "\n",
            "    accuracy                           0.64       261\n",
            "   macro avg       0.14      0.16      0.14       261\n",
            "weighted avg       0.48      0.64      0.54       261\n",
            "\n"
          ]
        }
      ],
      "source": [
        "model = Perceptron(tol=1e-3, random_state=25)\n",
        "model.fit(X_train_mc, y_train)\n",
        "y_predict = model.predict(X_test_mc)\n",
        "print(classification_report(y_test, y_predict, zero_division=0, labels=input3.label.unique()))\n"
      ]
    }
  ],
  "metadata": {
    "kernelspec": {
      "display_name": "Python 3 (ipykernel)",
      "language": "python",
      "name": "python3"
    },
    "language_info": {
      "codemirror_mode": {
        "name": "ipython",
        "version": 3
      },
      "file_extension": ".py",
      "mimetype": "text/x-python",
      "name": "python",
      "nbconvert_exporter": "python",
      "pygments_lexer": "ipython3",
      "version": "3.8.8"
    },
    "colab": {
      "provenance": []
    }
  },
  "nbformat": 4,
  "nbformat_minor": 5
}