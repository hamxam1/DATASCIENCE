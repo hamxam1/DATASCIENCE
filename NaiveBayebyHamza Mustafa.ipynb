{
  "nbformat": 4,
  "nbformat_minor": 0,
  "metadata": {
    "colab": {
      "name": "NaiveBayeOnMINIST.ipynb",
      "provenance": [],
      "collapsed_sections": []
    },
    "kernelspec": {
      "name": "python3",
      "display_name": "Python 3"
    },
    "language_info": {
      "name": "python"
    },
    "accelerator": "GPU"
  },
  "cells": [
    {
      "cell_type": "markdown",
      "metadata": {
        "id": "lINpZ6-miyBU"
      },
      "source": [
        "\n",
        "### **Naive Bayes On MINIST**\n",
        "\n",
        "# HAMZA MUSTAFA"
      ]
    },
    {
      "cell_type": "code",
      "metadata": {
        "id": "vxF_z-mZgil0"
      },
      "source": [
        "import matplotlib.pyplot as plt\n",
        "import numpy as np\n",
        "from tensorflow import keras\n",
        "from sklearn.datasets import  load_digits\n",
        "from sklearn.model_selection import train_test_split\n",
        "from sklearn.metrics import accuracy_score\n",
        "import cv2"
      ],
      "execution_count": 1,
      "outputs": []
    },
    {
      "cell_type": "code",
      "metadata": {
        "colab": {
          "base_uri": "https://localhost:8080/"
        },
        "id": "Lf9OaBV8gzeQ",
        "outputId": "d0277677-5cee-421b-d8e4-390659a3a810"
      },
      "source": [
        "dataset = keras.datasets.mnist\n",
        "\n",
        "(X_raw_train, y_train), (X_raw_test, y_test) = dataset.load_data()\n",
        "\n",
        "X_train = np.zeros((X_raw_train.shape[0], 108))\n",
        "X_test = np.zeros((X_raw_test.shape[0], 108))\n",
        "\n",
        "hog = cv2.HOGDescriptor((28, 28), (14, 14), (7, 7), (14, 14), 12)\n",
        "\n",
        "for n in range(X_raw_train.shape[0]):\n",
        "    X_train[n] = hog.compute(X_raw_train[n]).reshape(1, -1)\n",
        "    \n",
        "for n in range(X_raw_test.shape[0]):\n",
        "    X_test[n] = hog.compute(X_raw_test[n]).reshape(1, -1)"
      ],
      "execution_count": 2,
      "outputs": [
        {
          "output_type": "stream",
          "name": "stdout",
          "text": [
            "Downloading data from https://storage.googleapis.com/tensorflow/tf-keras-datasets/mnist.npz\n",
            "11493376/11490434 [==============================] - 0s 0us/step\n",
            "11501568/11490434 [==============================] - 0s 0us/step\n"
          ]
        }
      ]
    },
    {
      "cell_type": "code",
      "metadata": {
        "colab": {
          "base_uri": "https://localhost:8080/",
          "height": 578
        },
        "id": "8xqw0uZ8g9EI",
        "outputId": "de9d3296-c3c8-4749-ef8c-6b3a668a260b"
      },
      "source": [
        "_, ax = plt.subplots(5, 5, figsize=(10, 10))\n",
        "index = 0\n",
        "\n",
        "for i in range(5):\n",
        "    for j in range(5):\n",
        "        cell = ax[i][j]\n",
        "        cell.set_xticks([])\n",
        "        cell.set_yticks([])\n",
        "        cell.grid(False)\n",
        "        cell.imshow(X_raw_test[index], cmap='gray')\n",
        "        index += 3\n",
        "        \n",
        "plt.show()"
      ],
      "execution_count": 3,
      "outputs": [
        {
          "output_type": "display_data",
          "data": {
            "image/png": "[encoded data removed]",
            "text/plain": [
              "<Figure size 720x720 with 25 Axes>"
            ]
          },
          "metadata": {}
        }
      ]
    },
    {
      "cell_type": "code",
      "metadata": {
        "colab": {
          "base_uri": "https://localhost:8080/"
        },
        "id": "1WHeYtc4hWZg",
        "outputId": "0e0aa261-668e-4548-f17b-f02e6d6c5033"
      },
      "source": [
        "_, prob_y = np.unique(y_train, return_counts=True)\n",
        "prob_y = prob_y / len(y_train)\n",
        "num_classes = len(prob_y)\n",
        "prob_y"
      ],
      "execution_count": 4,
      "outputs": [
        {
          "output_type": "execute_result",
          "data": {
            "text/plain": [
              "array([0.09871667, 0.11236667, 0.0993    , 0.10218333, 0.09736667,\n",
              "       0.09035   , 0.09863333, 0.10441667, 0.09751667, 0.09915   ])"
            ]
          },
          "metadata": {},
          "execution_count": 4
        }
      ]
    },
    {
      "cell_type": "code",
      "metadata": {
        "id": "SAHvfygGhclm"
      },
      "source": [
        "def log_gaussian(X, mu, sigma):\n",
        "    return -(np.sum(np.log(sigma)) + 0.5 * np.sum(((X - mu) / sigma) ** 2)).reshape(-1, 1)"
      ],
      "execution_count": null,
      "outputs": []
    },
    {
      "cell_type": "code",
      "metadata": {
        "id": "jEyQK8JOheh2"
      },
      "source": [
        "def train_naive_bayes():\n",
        "    means = np.zeros((num_classes, X_train.shape[1]), dtype=np.float64)\n",
        "    stdevs = np.zeros((num_classes, X_train.shape[1]), dtype=np.float64)\n",
        "    \n",
        "    for k, y_k in enumerate(np.unique(y_train)):\n",
        "        indices = np.where(y_k == y_train)\n",
        "        means[k] = np.mean(X_train[indices], axis=0)\n",
        "        stdevs[k] = np.std(X_train[indices], axis=0)\n",
        "        \n",
        "    return means, stdevs"
      ],
      "execution_count": null,
      "outputs": []
    },
    {
      "cell_type": "code",
      "metadata": {
        "colab": {
          "base_uri": "https://localhost:8080/"
        },
        "id": "xS2tmHwQhitd",
        "outputId": "3a3a3c2f-1de0-4176-d319-a40b83ef7d3f"
      },
      "source": [
        "means, stdevs = train_naive_bayes()\n",
        "print('Means for class 0:\\n', means[0], '\\n\\nStandard deviations for class 0\\n', stdevs[0])"
      ],
      "execution_count": null,
      "outputs": [
        {
          "output_type": "stream",
          "name": "stdout",
          "text": [
            "Means for class 0:\n",
            " [0.30678743 0.39533906 0.49698065 0.47942126 0.23345504 0.16344804\n",
            " 0.09279153 0.01742686 0.01565332 0.01517458 0.01731597 0.17423633\n",
            " 0.44260052 0.43626217 0.43094108 0.29247752 0.06933765 0.05582165\n",
            " 0.04511124 0.02725237 0.06435403 0.12624306 0.15242024 0.3932381\n",
            " 0.33039128 0.15454434 0.12076002 0.07976528 0.09248541 0.24739966\n",
            " 0.29079921 0.26497931 0.36151173 0.36524211 0.31475686 0.3574081\n",
            " 0.17230083 0.19654137 0.36610455 0.38814007 0.32552076 0.35568275\n",
            " 0.32603948 0.18848521 0.22032257 0.17830103 0.092407   0.14042486\n",
            " 0.32399185 0.33429498 0.39768063 0.37237062 0.24249547 0.23246207\n",
            " 0.18654091 0.0988651  0.13513616 0.15262434 0.13333062 0.26915728\n",
            " 0.10747293 0.10649556 0.29421138 0.40128702 0.39745421 0.41461391\n",
            " 0.38427027 0.18927837 0.19220744 0.12930193 0.06576277 0.09647302\n",
            " 0.27370977 0.08789382 0.09359048 0.11626488 0.10110692 0.23180832\n",
            " 0.27630185 0.25474979 0.37876405 0.39644995 0.34596988 0.34044592\n",
            " 0.42185483 0.37627579 0.37949988 0.26628861 0.08103729 0.06562463\n",
            " 0.05504187 0.04430536 0.13012485 0.23477544 0.26115985 0.40948865\n",
            " 0.28233761 0.35860327 0.48115529 0.48099913 0.33998553 0.22773549\n",
            " 0.10881633 0.00711425 0.00496192 0.00806203 0.01549253 0.15777465] \n",
            "\n",
            "Standard deviations for class 0\n",
            " [0.15528214 0.13907786 0.07806083 0.10262917 0.17125935 0.13673659\n",
            " 0.09997971 0.04588158 0.04576941 0.0486846  0.05062703 0.13881413\n",
            " 0.07057316 0.08547206 0.09635951 0.17286217 0.09686256 0.07293858\n",
            " 0.06116716 0.04474594 0.08637365 0.12940148 0.14241601 0.11331706\n",
            " 0.08383711 0.12410426 0.12281056 0.10394103 0.10687686 0.1123704\n",
            " 0.0974079  0.12141028 0.07698211 0.07799513 0.11595225 0.06842645\n",
            " 0.12034932 0.1324934  0.10633574 0.0925468  0.12955381 0.08791516\n",
            " 0.09726449 0.13325494 0.13515623 0.1305467  0.09427651 0.11038917\n",
            " 0.12147878 0.12776927 0.09511013 0.11812663 0.14998211 0.13703613\n",
            " 0.1309343  0.1104304  0.12818632 0.13377738 0.12666196 0.13428387\n",
            " 0.10187655 0.10869919 0.14785681 0.08905034 0.09840079 0.0687211\n",
            " 0.08940851 0.14359557 0.13969207 0.12103721 0.07948856 0.09529809\n",
            " 0.12384352 0.1074754  0.11095951 0.11749306 0.10375126 0.11423364\n",
            " 0.11047158 0.14045158 0.10451257 0.08677471 0.11171208 0.09933593\n",
            " 0.06044544 0.1084184  0.1008463  0.14537295 0.09439435 0.07531606\n",
            " 0.06742613 0.06649292 0.12993194 0.14986582 0.14983616 0.0732667\n",
            " 0.14264207 0.13925709 0.06555377 0.06561917 0.14893104 0.14506146\n",
            " 0.10164724 0.02301921 0.01833006 0.02644523 0.03746856 0.12064316]\n"
          ]
        }
      ]
    },
    {
      "cell_type": "code",
      "metadata": {
        "id": "DlMHyPMEhm5E"
      },
      "source": [
        "def predict(x):\n",
        "    return np.argmax([np.log(prob_y[k]) + log_gaussian(x.reshape(1, -1), \n",
        "                      means[k], stdevs[k]) for k in range(num_classes)])"
      ],
      "execution_count": null,
      "outputs": []
    },
    {
      "cell_type": "code",
      "metadata": {
        "colab": {
          "base_uri": "https://localhost:8080/"
        },
        "id": "x_ABuq5Thqlh",
        "outputId": "1a733207-93d9-476d-8c56-fa5b08bc1ced"
      },
      "source": [
        "y_pred = np.zeros((X_test.shape[0]))\n",
        "\n",
        "for n in range(X_test.shape[0]):\n",
        "    y_pred[n] = predict(X_test[n])\n",
        "\n",
        "accuracy_score(y_test, y_pred)"
      ],
      "execution_count": null,
      "outputs": [
        {
          "output_type": "execute_result",
          "data": {
            "text/plain": [
              "0.9151"
            ]
          },
          "metadata": {},
          "execution_count": 9
        }
      ]
    },
    {
      "cell_type": "code",
      "metadata": {
        "colab": {
          "base_uri": "https://localhost:8080/",
          "height": 594
        },
        "id": "VqCS7kmYhuUK",
        "outputId": "7f522d55-09f0-4c58-edf3-77881da8f044"
      },
      "source": [
        "_, ax = plt.subplots(5, 5, figsize=(10, 10))\n",
        "index = 0\n",
        "\n",
        "for i in range(5):\n",
        "    for j in range(5):\n",
        "        cell = ax[i][j]\n",
        "        cell.set_title('Pred: %s' % predict(X_test[index]))\n",
        "        cell.set_xticks([])\n",
        "        cell.set_yticks([])\n",
        "        cell.grid(True)\n",
        "        cell.imshow(X_raw_test[index], cmap='gray')\n",
        "        index += 2\n",
        "        \n",
        "plt.show()"
      ],
      "execution_count": null,
      "outputs": [
        {
          "output_type": "display_data",
          "data": {
            "image/png": "[encoded data removed]",
            "text/plain": [
              "<Figure size 720x720 with 25 Axes>"
            ]
          },
          "metadata": {}
        }
      ]
    },
    {
      "cell_type": "code",
      "metadata": {
        "id": "o5pQzSYNiQlX"
      },
      "source": [
        ""
      ],
      "execution_count": 4,
      "outputs": []
    },
    {
      "cell_type": "code",
      "metadata": {
        "id": "03T7H3FeiTv4"
      },
      "source": [
        ""
      ],
      "execution_count": null,
      "outputs": []
    }
  ]
}